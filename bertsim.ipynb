{
  "nbformat": 4,
  "nbformat_minor": 0,
  "metadata": {
    "colab": {
      "name": "bertsim.ipynb",
      "provenance": [],
      "collapsed_sections": [],
      "authorship_tag": "ABX9TyNGSRkhARlfE0MADqlzh3Hr",
      "include_colab_link": true
    },
    "kernelspec": {
      "name": "python3",
      "display_name": "Python 3"
    }
  },
  "cells": [
    {
      "cell_type": "markdown",
      "metadata": {
        "id": "view-in-github",
        "colab_type": "text"
      },
      "source": [
        "<a href=\"https://colab.research.google.com/github/myhrbeu/BERTCC/blob/master/bertsim.ipynb\" target=\"_parent\"><img src=\"https://colab.research.google.com/assets/colab-badge.svg\" alt=\"Open In Colab\"/></a>"
      ]
    },
    {
      "cell_type": "markdown",
      "metadata": {
        "id": "avBgNPWEVFGX",
        "colab_type": "text"
      },
      "source": [
        "参照google的内容来进行相似度的案例搭建\n",
        "\n",
        "https://github.com/sliderSun/bert \n",
        "\n",
        "https://blog.csdn.net/weixin_37947156/article/details/84877254 参照源\n"
      ]
    },
    {
      "cell_type": "code",
      "metadata": {
        "id": "vpuE1ZqpVAl0",
        "colab_type": "code",
        "colab": {
          "base_uri": "https://localhost:8080/",
          "height": 102
        },
        "outputId": "de0d442f-6931-4a0e-c9ed-1517a43437a7"
      },
      "source": [
        "!git clone https://github.com/sliderSun/bert"
      ],
      "execution_count": 1,
      "outputs": [
        {
          "output_type": "stream",
          "text": [
            "Cloning into 'bert'...\n",
            "remote: Enumerating objects: 467, done.\u001b[K\n",
            "remote: Total 467 (delta 0), reused 0 (delta 0), pack-reused 467\u001b[K\n",
            "Receiving objects: 100% (467/467), 10.07 MiB | 13.22 MiB/s, done.\n",
            "Resolving deltas: 100% (237/237), done.\n"
          ],
          "name": "stdout"
        }
      ]
    },
    {
      "cell_type": "code",
      "metadata": {
        "id": "Ro60_tIuVR2n",
        "colab_type": "code",
        "colab": {}
      },
      "source": [
        ""
      ],
      "execution_count": 0,
      "outputs": []
    }
  ]
}