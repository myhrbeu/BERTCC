{
  "nbformat": 4,
  "nbformat_minor": 0,
  "metadata": {
    "colab": {
      "name": "Untitled0.ipynb",
      "provenance": [],
      "collapsed_sections": [],
      "toc_visible": true,
      "mount_file_id": "1Z1IiY91xpnx1wu8l688mzgoHM_ul0MC7",
      "authorship_tag": "ABX9TyMTT2IvThG/Be8UIAhX8dam",
      "include_colab_link": true
    },
    "kernelspec": {
      "name": "python3",
      "display_name": "Python 3"
    },
    "accelerator": "GPU"
  },
  "cells": [
    {
      "cell_type": "markdown",
      "metadata": {
        "id": "view-in-github",
        "colab_type": "text"
      },
      "source": [
        "<a href=\"https://colab.research.google.com/github/myhrbeu/BERTCC/blob/master/ccbert%E6%9C%80%E7%BB%88%E5%91%BD%E4%BB%A4%E5%AD%98%E5%82%A8.ipynb\" target=\"_parent\"><img src=\"https://colab.research.google.com/assets/colab-badge.svg\" alt=\"Open In Colab\"/></a>"
      ]
    },
    {
      "cell_type": "code",
      "metadata": {
        "id": "zjjGy8We2Ruw",
        "colab_type": "code",
        "colab": {
          "base_uri": "https://localhost:8080/",
          "height": 136
        },
        "outputId": "889f41bd-4e8d-49ab-f0cf-c3c81798adcb"
      },
      "source": [
        "!git clone https://github.com/649453932/Bert-Chinese-Text-Classification-Pytorch"
      ],
      "execution_count": 3,
      "outputs": [
        {
          "output_type": "stream",
          "text": [
            "Cloning into 'Bert-Chinese-Text-Classification-Pytorch'...\n",
            "remote: Enumerating objects: 124, done.\u001b[K\n",
            "remote: Counting objects:   0% (1/124)\u001b[K\rremote: Counting objects:   1% (2/124)\u001b[K\rremote: Counting objects:   2% (3/124)\u001b[K\rremote: Counting objects:   3% (4/124)\u001b[K\rremote: Counting objects:   4% (5/124)\u001b[K\rremote: Counting objects:   5% (7/124)\u001b[K\rremote: Counting objects:   6% (8/124)\u001b[K\rremote: Counting objects:   7% (9/124)\u001b[K\rremote: Counting objects:   8% (10/124)\u001b[K\rremote: Counting objects:   9% (12/124)\u001b[K\rremote: Counting objects:  10% (13/124)\u001b[K\rremote: Counting objects:  11% (14/124)\u001b[K\rremote: Counting objects:  12% (15/124)\u001b[K\rremote: Counting objects:  13% (17/124)\u001b[K\rremote: Counting objects:  14% (18/124)\u001b[K\rremote: Counting objects:  15% (19/124)\u001b[K\rremote: Counting objects:  16% (20/124)\u001b[K\rremote: Counting objects:  17% (22/124)\u001b[K\rremote: Counting objects:  18% (23/124)\u001b[K\rremote: Counting objects:  19% (24/124)\u001b[K\rremote: Counting objects:  20% (25/124)\u001b[K\rremote: Counting objects:  21% (27/124)\u001b[K\rremote: Counting objects:  22% (28/124)\u001b[K\rremote: Counting objects:  23% (29/124)\u001b[K\rremote: Counting objects:  24% (30/124)\u001b[K\rremote: Counting objects:  25% (31/124)\u001b[K\rremote: Counting objects:  26% (33/124)\u001b[K\rremote: Counting objects:  27% (34/124)\u001b[K\rremote: Counting objects:  28% (35/124)\u001b[K\rremote: Counting objects:  29% (36/124)\u001b[K\rremote: Counting objects:  30% (38/124)\u001b[K\rremote: Counting objects:  31% (39/124)\u001b[K\rremote: Counting objects:  32% (40/124)\u001b[K\rremote: Counting objects:  33% (41/124)\u001b[K\rremote: Counting objects:  34% (43/124)\u001b[K\rremote: Counting objects:  35% (44/124)\u001b[K\rremote: Counting objects:  36% (45/124)\u001b[K\rremote: Counting objects:  37% (46/124)\u001b[K\rremote: Counting objects:  38% (48/124)\u001b[K\rremote: Counting objects:  39% (49/124)\u001b[K\rremote: Counting objects:  40% (50/124)\u001b[K\rremote: Counting objects:  41% (51/124)\u001b[K\rremote: Counting objects:  42% (53/124)\u001b[K\rremote: Counting objects:  43% (54/124)\u001b[K\rremote: Counting objects:  44% (55/124)\u001b[K\rremote: Counting objects:  45% (56/124)\u001b[K\rremote: Counting objects:  46% (58/124)\u001b[K\rremote: Counting objects:  47% (59/124)\u001b[K\rremote: Counting objects:  48% (60/124)\u001b[K\rremote: Counting objects:  49% (61/124)\u001b[K\rremote: Counting objects:  50% (62/124)\u001b[K\rremote: Counting objects:  51% (64/124)\u001b[K\rremote: Counting objects:  52% (65/124)\u001b[K\rremote: Counting objects:  53% (66/124)\u001b[K\rremote: Counting objects:  54% (67/124)\u001b[K\rremote: Counting objects:  55% (69/124)\u001b[K\rremote: Counting objects:  56% (70/124)\u001b[K\rremote: Counting objects:  57% (71/124)\u001b[K\rremote: Counting objects:  58% (72/124)\u001b[K\rremote: Counting objects:  59% (74/124)\u001b[K\rremote: Counting objects:  60% (75/124)\u001b[K\rremote: Counting objects:  61% (76/124)\u001b[K\rremote: Counting objects:  62% (77/124)\u001b[K\rremote: Counting objects:  63% (79/124)\u001b[K\rremote: Counting objects:  64% (80/124)\u001b[K\rremote: Counting objects:  65% (81/124)\u001b[K\rremote: Counting objects:  66% (82/124)\u001b[K\rremote: Counting objects:  67% (84/124)\u001b[K\rremote: Counting objects:  68% (85/124)\u001b[K\rremote: Counting objects:  69% (86/124)\u001b[K\rremote: Counting objects:  70% (87/124)\u001b[K\rremote: Counting objects:  71% (89/124)\u001b[K\rremote: Counting objects:  72% (90/124)\u001b[K\rremote: Counting objects:  73% (91/124)\u001b[K\rremote: Counting objects:  74% (92/124)\u001b[K\rremote: Counting objects:  75% (93/124)\u001b[K\rremote: Counting objects:  76% (95/124)\u001b[K\rremote: Counting objects:  77% (96/124)\u001b[K\rremote: Counting objects:  78% (97/124)\u001b[K\rremote: Counting objects:  79% (98/124)\u001b[K\rremote: Counting objects:  80% (100/124)\u001b[K\rremote: Counting objects:  81% (101/124)\u001b[K\rremote: Counting objects:  82% (102/124)\u001b[K\rremote: Counting objects:  83% (103/124)\u001b[K\rremote: Counting objects:  84% (105/124)\u001b[K\rremote: Counting objects:  85% (106/124)\u001b[K\rremote: Counting objects:  86% (107/124)\u001b[K\rremote: Counting objects:  87% (108/124)\u001b[K\rremote: Counting objects:  88% (110/124)\u001b[K\rremote: Counting objects:  89% (111/124)\u001b[K\rremote: Counting objects:  90% (112/124)\u001b[K\rremote: Counting objects:  91% (113/124)\u001b[K\rremote: Counting objects:  92% (115/124)\u001b[K\rremote: Counting objects:  93% (116/124)\u001b[K\rremote: Counting objects:  94% (117/124)\u001b[K\rremote: Counting objects:  95% (118/124)\u001b[K\rremote: Counting objects:  96% (120/124)\u001b[K\rremote: Counting objects:  97% (121/124)\u001b[K\rremote: Counting objects:  98% (122/124)\u001b[K\rremote: Counting objects:  99% (123/124)\u001b[K\rremote: Counting objects: 100% (124/124)\u001b[K\rremote: Counting objects: 100% (124/124), done.\u001b[K\n",
            "remote: Compressing objects: 100% (91/91), done.\u001b[K\n",
            "remote: Total 124 (delta 48), reused 89 (delta 27), pack-reused 0\u001b[K\n",
            "Receiving objects: 100% (124/124), 6.09 MiB | 11.17 MiB/s, done.\n",
            "Resolving deltas: 100% (48/48), done.\n"
          ],
          "name": "stdout"
        }
      ]
    },
    {
      "cell_type": "code",
      "metadata": {
        "id": "ZhSJLfNE2kGP",
        "colab_type": "code",
        "colab": {
          "base_uri": "https://localhost:8080/",
          "height": 34
        },
        "outputId": "208a8bef-cd33-4968-bce4-6f1b14a7ec64"
      },
      "source": [
        "!ls"
      ],
      "execution_count": 5,
      "outputs": [
        {
          "output_type": "stream",
          "text": [
            "Bert-Chinese-Text-Classification-Pytorch  sample_data\n"
          ],
          "name": "stdout"
        }
      ]
    },
    {
      "cell_type": "code",
      "metadata": {
        "id": "DML-Oc_pGZom",
        "colab_type": "code",
        "colab": {
          "base_uri": "https://localhost:8080/",
          "height": 204
        },
        "outputId": "82a47b0e-9db4-4b69-8dd8-8fdf116165e3"
      },
      "source": [
        "!wget https://s3.amazonaws.com/models.huggingface.co/bert/bert-base-chinese.tar.gz"
      ],
      "execution_count": 16,
      "outputs": [
        {
          "output_type": "stream",
          "text": [
            "--2020-03-20 13:26:17--  https://s3.amazonaws.com/models.huggingface.co/bert/bert-base-chinese.tar.gz\n",
            "Resolving s3.amazonaws.com (s3.amazonaws.com)... 52.216.24.78\n",
            "Connecting to s3.amazonaws.com (s3.amazonaws.com)|52.216.24.78|:443... connected.\n",
            "HTTP request sent, awaiting response... 200 OK\n",
            "Length: 382072689 (364M) [application/x-tar]\n",
            "Saving to: ‘bert-base-chinese.tar.gz’\n",
            "\n",
            "bert-base-chinese.t 100%[===================>] 364.37M  54.2MB/s    in 6.3s    \n",
            "\n",
            "2020-03-20 13:26:24 (57.9 MB/s) - ‘bert-base-chinese.tar.gz’ saved [382072689/382072689]\n",
            "\n"
          ],
          "name": "stdout"
        }
      ]
    },
    {
      "cell_type": "code",
      "metadata": {
        "id": "lXMktsTwGgj_",
        "colab_type": "code",
        "colab": {
          "base_uri": "https://localhost:8080/",
          "height": 51
        },
        "outputId": "dac7ec0f-d179-45f9-fb05-5861bd5160b7"
      },
      "source": [
        "!tar -xzvf bert-base-chinese.tar.gz ./"
      ],
      "execution_count": 17,
      "outputs": [
        {
          "output_type": "stream",
          "text": [
            "./pytorch_model.bin\n",
            "./bert_config.json\n"
          ],
          "name": "stdout"
        }
      ]
    },
    {
      "cell_type": "code",
      "metadata": {
        "id": "TfUJnmHoGnpI",
        "colab_type": "code",
        "colab": {
          "base_uri": "https://localhost:8080/",
          "height": 51
        },
        "outputId": "fe9bd066-3d61-471a-809c-3aa68ba76942"
      },
      "source": [
        "!ls"
      ],
      "execution_count": 11,
      "outputs": [
        {
          "output_type": "stream",
          "text": [
            "bert-base-chinese.tar.gz  pytorch_model.bin  vocab.txt\n",
            "bert_config.json\t  README.md\n"
          ],
          "name": "stdout"
        }
      ]
    },
    {
      "cell_type": "code",
      "metadata": {
        "id": "2oFJvBpmGr2e",
        "colab_type": "code",
        "colab": {
          "base_uri": "https://localhost:8080/",
          "height": 34
        },
        "outputId": "7f348468-8112-4df6-ac71-c50f499647d0"
      },
      "source": [
        "%cd /content/drive/My Drive/Bert-Chinese-Text-Classification-Pytorch"
      ],
      "execution_count": 4,
      "outputs": [
        {
          "output_type": "stream",
          "text": [
            "/content/drive/My Drive/Bert-Chinese-Text-Classification-Pytorch\n"
          ],
          "name": "stdout"
        }
      ]
    },
    {
      "cell_type": "code",
      "metadata": {
        "id": "aZxAe9XxIEF5",
        "colab_type": "code",
        "colab": {}
      },
      "source": [
        "import sys\n",
        "cur = '/content/drive/My Drive/Bert-Chinese-Text-Classification-Pytorch'\n",
        "sys.path.append(cur)"
      ],
      "execution_count": 0,
      "outputs": []
    },
    {
      "cell_type": "code",
      "metadata": {
        "id": "H6WPP-OnIQLe",
        "colab_type": "code",
        "colab": {
          "base_uri": "https://localhost:8080/",
          "height": 250
        },
        "outputId": "e3fd2ce2-130d-447a-cf48-41b5da8b7ce1"
      },
      "source": [
        "!python run.py --model bert"
      ],
      "execution_count": 0,
      "outputs": [
        {
          "output_type": "stream",
          "text": [
            "Loading data...\n",
            "180000it [00:20, 8771.02it/s]\n",
            "10000it [00:01, 7892.94it/s]\n",
            "10000it [00:01, 8961.96it/s]\n",
            "Time usage: 0:00:23\n",
            "Epoch [1/3]\n",
            "Iter:      0,  Train Loss:   2.4,  Train Acc: 13.28%,  Val Loss:   2.4,  Val Acc:  9.08%,  Time: 0:00:24 *\n",
            "Iter:    100,  Train Loss:  0.43,  Train Acc: 87.50%,  Val Loss:   0.4,  Val Acc: 88.26%,  Time: 0:02:24 *\n",
            "Iter:    200,  Train Loss:  0.38,  Train Acc: 88.28%,  Val Loss:  0.36,  Val Acc: 89.93%,  Time: 0:04:26 *\n",
            "Iter:    300,  Train Loss:  0.34,  Train Acc: 90.62%,  Val Loss:  0.32,  Val Acc: 90.44%,  Time: 0:06:28 *\n",
            "Iter:    400,  Train Loss:  0.39,  Train Acc: 87.50%,  Val Loss:  0.28,  Val Acc: 91.44%,  Time: 0:08:31 *\n",
            "Iter:    500,  Train Loss:  0.26,  Train Acc: 90.62%,  Val Loss:  0.28,  Val Acc: 91.60%,  Time: 0:10:32 \n"
          ],
          "name": "stdout"
        }
      ]
    },
    {
      "cell_type": "code",
      "metadata": {
        "id": "ARgU4N0_IXZF",
        "colab_type": "code",
        "colab": {}
      },
      "source": [
        "import torch"
      ],
      "execution_count": 0,
      "outputs": []
    },
    {
      "cell_type": "code",
      "metadata": {
        "id": "3UH2y2f2JhRi",
        "colab_type": "code",
        "colab": {
          "base_uri": "https://localhost:8080/",
          "height": 34
        },
        "outputId": "ffae3fa8-832f-4d38-86d4-f6fe9cbcb61c"
      },
      "source": [
        "if torch.cuda.is_available:\n",
        "  print(\"true\")"
      ],
      "execution_count": 22,
      "outputs": [
        {
          "output_type": "stream",
          "text": [
            "true\n"
          ],
          "name": "stdout"
        }
      ]
    },
    {
      "cell_type": "code",
      "metadata": {
        "id": "igg_zFbZKXhN",
        "colab_type": "code",
        "colab": {
          "base_uri": "https://localhost:8080/",
          "height": 306
        },
        "outputId": "e114c972-7a54-4d23-f3bd-d021c28413f6"
      },
      "source": [
        "!/opt/bin/nvidia-smi"
      ],
      "execution_count": 7,
      "outputs": [
        {
          "output_type": "stream",
          "text": [
            "Fri Mar 20 13:42:17 2020       \n",
            "+-----------------------------------------------------------------------------+\n",
            "| NVIDIA-SMI 418.67       Driver Version: 418.67       CUDA Version: 10.1     |\n",
            "|-------------------------------+----------------------+----------------------+\n",
            "| GPU  Name        Persistence-M| Bus-Id        Disp.A | Volatile Uncorr. ECC |\n",
            "| Fan  Temp  Perf  Pwr:Usage/Cap|         Memory-Usage | GPU-Util  Compute M. |\n",
            "|===============================+======================+======================|\n",
            "|   0  Tesla P4            Off  | 00000000:00:04.0 Off |                    0 |\n",
            "| N/A   47C    P0    25W /  75W |      0MiB /  7611MiB |      0%      Default |\n",
            "+-------------------------------+----------------------+----------------------+\n",
            "                                                                               \n",
            "+-----------------------------------------------------------------------------+\n",
            "| Processes:                                                       GPU Memory |\n",
            "|  GPU       PID   Type   Process name                             Usage      |\n",
            "|=============================================================================|\n",
            "|  No running processes found                                                 |\n",
            "+-----------------------------------------------------------------------------+\n"
          ],
          "name": "stdout"
        }
      ]
    },
    {
      "cell_type": "code",
      "metadata": {
        "id": "YMJXLOk1Kf-2",
        "colab_type": "code",
        "colab": {}
      },
      "source": [
        ""
      ],
      "execution_count": 0,
      "outputs": []
    }
  ]
}