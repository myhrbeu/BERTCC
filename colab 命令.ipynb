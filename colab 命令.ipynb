{
  "nbformat": 4,
  "nbformat_minor": 0,
  "metadata": {
    "colab": {
      "name": "Untitled0.ipynb",
      "provenance": [],
      "collapsed_sections": [],
      "toc_visible": true,
      "mount_file_id": "1Z1IiY91xpnx1wu8l688mzgoHM_ul0MC7",
      "authorship_tag": "ABX9TyMEIvut1W8FsYFYLHwBaOSc",
      "include_colab_link": true
    },
    "kernelspec": {
      "name": "python3",
      "display_name": "Python 3"
    }
  },
  "cells": [
    {
      "cell_type": "markdown",
      "metadata": {
        "id": "view-in-github",
        "colab_type": "text"
      },
      "source": [
        "<a href=\"https://colab.research.google.com/github/myhrbeu/BERTCC/blob/master/colab%20%E5%91%BD%E4%BB%A4.ipynb\" target=\"_parent\"><img src=\"https://colab.research.google.com/assets/colab-badge.svg\" alt=\"Open In Colab\"/></a>"
      ]
    },
    {
      "cell_type": "code",
      "metadata": {
        "id": "Mnn05YjA1nNC",
        "colab_type": "code",
        "colab": {
          "base_uri": "https://localhost:8080/",
          "height": 131
        },
        "outputId": "c1244f27-8fab-4e94-d4d6-a1ed66625785"
      },
      "source": [
        "https://github.com/myhrbeu/Bert-Chinese-Text-Classification-Pytorch"
      ],
      "execution_count": 1,
      "outputs": [
        {
          "output_type": "error",
          "ename": "SyntaxError",
          "evalue": "ignored",
          "traceback": [
            "\u001b[0;36m  File \u001b[0;32m\"<ipython-input-1-ed4cbf68f0be>\"\u001b[0;36m, line \u001b[0;32m1\u001b[0m\n\u001b[0;31m    https://github.com/myhrbeu/Bert-Chinese-Text-Classification-Pytorch\u001b[0m\n\u001b[0m           ^\u001b[0m\n\u001b[0;31mSyntaxError\u001b[0m\u001b[0;31m:\u001b[0m invalid syntax\n"
          ]
        }
      ]
    },
    {
      "cell_type": "code",
      "metadata": {
        "id": "zjjGy8We2Ruw",
        "colab_type": "code",
        "colab": {
          "base_uri": "https://localhost:8080/",
          "height": 136
        },
        "outputId": "889f41bd-4e8d-49ab-f0cf-c3c81798adcb"
      },
      "source": [
        "!git clone https://github.com/649453932/Bert-Chinese-Text-Classification-Pytorch"
      ],
      "execution_count": 3,
      "outputs": [
        {
          "output_type": "stream",
          "text": [
            "Cloning into 'Bert-Chinese-Text-Classification-Pytorch'...\n",
            "remote: Enumerating objects: 124, done.\u001b[K\n",
            "remote: Counting objects:   0% (1/124)\u001b[K\rremote: Counting objects:   1% (2/124)\u001b[K\rremote: Counting objects:   2% (3/124)\u001b[K\rremote: Counting objects:   3% (4/124)\u001b[K\rremote: Counting objects:   4% (5/124)\u001b[K\rremote: Counting objects:   5% (7/124)\u001b[K\rremote: Counting objects:   6% (8/124)\u001b[K\rremote: Counting objects:   7% (9/124)\u001b[K\rremote: Counting objects:   8% (10/124)\u001b[K\rremote: Counting objects:   9% (12/124)\u001b[K\rremote: Counting objects:  10% (13/124)\u001b[K\rremote: Counting objects:  11% (14/124)\u001b[K\rremote: Counting objects:  12% (15/124)\u001b[K\rremote: Counting objects:  13% (17/124)\u001b[K\rremote: Counting objects:  14% (18/124)\u001b[K\rremote: Counting objects:  15% (19/124)\u001b[K\rremote: Counting objects:  16% (20/124)\u001b[K\rremote: Counting objects:  17% (22/124)\u001b[K\rremote: Counting objects:  18% (23/124)\u001b[K\rremote: Counting objects:  19% (24/124)\u001b[K\rremote: Counting objects:  20% (25/124)\u001b[K\rremote: Counting objects:  21% (27/124)\u001b[K\rremote: Counting objects:  22% (28/124)\u001b[K\rremote: Counting objects:  23% (29/124)\u001b[K\rremote: Counting objects:  24% (30/124)\u001b[K\rremote: Counting objects:  25% (31/124)\u001b[K\rremote: Counting objects:  26% (33/124)\u001b[K\rremote: Counting objects:  27% (34/124)\u001b[K\rremote: Counting objects:  28% (35/124)\u001b[K\rremote: Counting objects:  29% (36/124)\u001b[K\rremote: Counting objects:  30% (38/124)\u001b[K\rremote: Counting objects:  31% (39/124)\u001b[K\rremote: Counting objects:  32% (40/124)\u001b[K\rremote: Counting objects:  33% (41/124)\u001b[K\rremote: Counting objects:  34% (43/124)\u001b[K\rremote: Counting objects:  35% (44/124)\u001b[K\rremote: Counting objects:  36% (45/124)\u001b[K\rremote: Counting objects:  37% (46/124)\u001b[K\rremote: Counting objects:  38% (48/124)\u001b[K\rremote: Counting objects:  39% (49/124)\u001b[K\rremote: Counting objects:  40% (50/124)\u001b[K\rremote: Counting objects:  41% (51/124)\u001b[K\rremote: Counting objects:  42% (53/124)\u001b[K\rremote: Counting objects:  43% (54/124)\u001b[K\rremote: Counting objects:  44% (55/124)\u001b[K\rremote: Counting objects:  45% (56/124)\u001b[K\rremote: Counting objects:  46% (58/124)\u001b[K\rremote: Counting objects:  47% (59/124)\u001b[K\rremote: Counting objects:  48% (60/124)\u001b[K\rremote: Counting objects:  49% (61/124)\u001b[K\rremote: Counting objects:  50% (62/124)\u001b[K\rremote: Counting objects:  51% (64/124)\u001b[K\rremote: Counting objects:  52% (65/124)\u001b[K\rremote: Counting objects:  53% (66/124)\u001b[K\rremote: Counting objects:  54% (67/124)\u001b[K\rremote: Counting objects:  55% (69/124)\u001b[K\rremote: Counting objects:  56% (70/124)\u001b[K\rremote: Counting objects:  57% (71/124)\u001b[K\rremote: Counting objects:  58% (72/124)\u001b[K\rremote: Counting objects:  59% (74/124)\u001b[K\rremote: Counting objects:  60% (75/124)\u001b[K\rremote: Counting objects:  61% (76/124)\u001b[K\rremote: Counting objects:  62% (77/124)\u001b[K\rremote: Counting objects:  63% (79/124)\u001b[K\rremote: Counting objects:  64% (80/124)\u001b[K\rremote: Counting objects:  65% (81/124)\u001b[K\rremote: Counting objects:  66% (82/124)\u001b[K\rremote: Counting objects:  67% (84/124)\u001b[K\rremote: Counting objects:  68% (85/124)\u001b[K\rremote: Counting objects:  69% (86/124)\u001b[K\rremote: Counting objects:  70% (87/124)\u001b[K\rremote: Counting objects:  71% (89/124)\u001b[K\rremote: Counting objects:  72% (90/124)\u001b[K\rremote: Counting objects:  73% (91/124)\u001b[K\rremote: Counting objects:  74% (92/124)\u001b[K\rremote: Counting objects:  75% (93/124)\u001b[K\rremote: Counting objects:  76% (95/124)\u001b[K\rremote: Counting objects:  77% (96/124)\u001b[K\rremote: Counting objects:  78% (97/124)\u001b[K\rremote: Counting objects:  79% (98/124)\u001b[K\rremote: Counting objects:  80% (100/124)\u001b[K\rremote: Counting objects:  81% (101/124)\u001b[K\rremote: Counting objects:  82% (102/124)\u001b[K\rremote: Counting objects:  83% (103/124)\u001b[K\rremote: Counting objects:  84% (105/124)\u001b[K\rremote: Counting objects:  85% (106/124)\u001b[K\rremote: Counting objects:  86% (107/124)\u001b[K\rremote: Counting objects:  87% (108/124)\u001b[K\rremote: Counting objects:  88% (110/124)\u001b[K\rremote: Counting objects:  89% (111/124)\u001b[K\rremote: Counting objects:  90% (112/124)\u001b[K\rremote: Counting objects:  91% (113/124)\u001b[K\rremote: Counting objects:  92% (115/124)\u001b[K\rremote: Counting objects:  93% (116/124)\u001b[K\rremote: Counting objects:  94% (117/124)\u001b[K\rremote: Counting objects:  95% (118/124)\u001b[K\rremote: Counting objects:  96% (120/124)\u001b[K\rremote: Counting objects:  97% (121/124)\u001b[K\rremote: Counting objects:  98% (122/124)\u001b[K\rremote: Counting objects:  99% (123/124)\u001b[K\rremote: Counting objects: 100% (124/124)\u001b[K\rremote: Counting objects: 100% (124/124), done.\u001b[K\n",
            "remote: Compressing objects: 100% (91/91), done.\u001b[K\n",
            "remote: Total 124 (delta 48), reused 89 (delta 27), pack-reused 0\u001b[K\n",
            "Receiving objects: 100% (124/124), 6.09 MiB | 11.17 MiB/s, done.\n",
            "Resolving deltas: 100% (48/48), done.\n"
          ],
          "name": "stdout"
        }
      ]
    },
    {
      "cell_type": "code",
      "metadata": {
        "id": "DRh9F4In2UCW",
        "colab_type": "code",
        "colab": {
          "base_uri": "https://localhost:8080/",
          "height": 131
        },
        "outputId": "8b86595b-5819-4e57-9247-42bf201db4d4"
      },
      "source": [
        "！ls"
      ],
      "execution_count": 4,
      "outputs": [
        {
          "output_type": "error",
          "ename": "SyntaxError",
          "evalue": "ignored",
          "traceback": [
            "\u001b[0;36m  File \u001b[0;32m\"<ipython-input-4-3064fc0f4ac6>\"\u001b[0;36m, line \u001b[0;32m1\u001b[0m\n\u001b[0;31m    ！ls\u001b[0m\n\u001b[0m      ^\u001b[0m\n\u001b[0;31mSyntaxError\u001b[0m\u001b[0;31m:\u001b[0m invalid character in identifier\n"
          ]
        }
      ]
    },
    {
      "cell_type": "code",
      "metadata": {
        "id": "ZhSJLfNE2kGP",
        "colab_type": "code",
        "colab": {
          "base_uri": "https://localhost:8080/",
          "height": 34
        },
        "outputId": "208a8bef-cd33-4968-bce4-6f1b14a7ec64"
      },
      "source": [
        "!ls"
      ],
      "execution_count": 5,
      "outputs": [
        {
          "output_type": "stream",
          "text": [
            "Bert-Chinese-Text-Classification-Pytorch  sample_data\n"
          ],
          "name": "stdout"
        }
      ]
    },
    {
      "cell_type": "code",
      "metadata": {
        "id": "hGkhFyUL2nl3",
        "colab_type": "code",
        "colab": {}
      },
      "source": [
        "!cd Bert-Chinese-Text-Classification-Pytorch/"
      ],
      "execution_count": 0,
      "outputs": []
    },
    {
      "cell_type": "code",
      "metadata": {
        "id": "tC_4I1gm2rtD",
        "colab_type": "code",
        "colab": {
          "base_uri": "https://localhost:8080/",
          "height": 34
        },
        "outputId": "c59d80a2-bb6f-4975-ab68-689aebc33080"
      },
      "source": [
        "!ls"
      ],
      "execution_count": 7,
      "outputs": [
        {
          "output_type": "stream",
          "text": [
            "Bert-Chinese-Text-Classification-Pytorch  sample_data\n"
          ],
          "name": "stdout"
        }
      ]
    },
    {
      "cell_type": "code",
      "metadata": {
        "id": "mjV-DxCx2uFi",
        "colab_type": "code",
        "colab": {}
      },
      "source": [
        "!cd Bert-Chinese-Text-Classification-Pytorch/\n"
      ],
      "execution_count": 0,
      "outputs": []
    },
    {
      "cell_type": "code",
      "metadata": {
        "id": "yQKLflK321P-",
        "colab_type": "code",
        "colab": {
          "base_uri": "https://localhost:8080/",
          "height": 34
        },
        "outputId": "ae8459b5-73d7-4a82-bc4d-78ed11961f8c"
      },
      "source": [
        "!ls"
      ],
      "execution_count": 9,
      "outputs": [
        {
          "output_type": "stream",
          "text": [
            "Bert-Chinese-Text-Classification-Pytorch  sample_data\n"
          ],
          "name": "stdout"
        }
      ]
    },
    {
      "cell_type": "code",
      "metadata": {
        "id": "Mj9OhWrJ23By",
        "colab_type": "code",
        "colab": {
          "base_uri": "https://localhost:8080/",
          "height": 204
        },
        "outputId": "591e6e70-6540-4dfa-d811-14b6d9337134"
      },
      "source": [
        "!wget https://s3.amazonaws.com/models.huggingface.co/bert/bert-base-chinese.tar.gz"
      ],
      "execution_count": 10,
      "outputs": [
        {
          "output_type": "stream",
          "text": [
            "--2020-03-20 12:22:51--  https://s3.amazonaws.com/models.huggingface.co/bert/bert-base-chinese.tar.gz\n",
            "Resolving s3.amazonaws.com (s3.amazonaws.com)... 52.216.186.189\n",
            "Connecting to s3.amazonaws.com (s3.amazonaws.com)|52.216.186.189|:443... connected.\n",
            "HTTP request sent, awaiting response... 200 OK\n",
            "Length: 382072689 (364M) [application/x-tar]\n",
            "Saving to: ‘bert-base-chinese.tar.gz’\n",
            "\n",
            "bert-base-chinese.t 100%[===================>] 364.37M  45.0MB/s    in 9.1s    \n",
            "\n",
            "2020-03-20 12:23:00 (39.9 MB/s) - ‘bert-base-chinese.tar.gz’ saved [382072689/382072689]\n",
            "\n"
          ],
          "name": "stdout"
        }
      ]
    },
    {
      "cell_type": "code",
      "metadata": {
        "id": "X8VYixcC5ihA",
        "colab_type": "code",
        "colab": {
          "base_uri": "https://localhost:8080/",
          "height": 34
        },
        "outputId": "41689118-1840-4ca3-b3f3-293d617e870b"
      },
      "source": [
        "!pwd"
      ],
      "execution_count": 11,
      "outputs": [
        {
          "output_type": "stream",
          "text": [
            "/content\n"
          ],
          "name": "stdout"
        }
      ]
    },
    {
      "cell_type": "code",
      "metadata": {
        "id": "g-WM9j_Z5kCm",
        "colab_type": "code",
        "colab": {
          "base_uri": "https://localhost:8080/",
          "height": 34
        },
        "outputId": "64f5f20f-b59a-4647-b3da-755872b8d74c"
      },
      "source": [
        "!ls"
      ],
      "execution_count": 12,
      "outputs": [
        {
          "output_type": "stream",
          "text": [
            "Bert-Chinese-Text-Classification-Pytorch  sample_data\n"
          ],
          "name": "stdout"
        }
      ]
    },
    {
      "cell_type": "code",
      "metadata": {
        "id": "njtbdbxB5moL",
        "colab_type": "code",
        "colab": {
          "base_uri": "https://localhost:8080/",
          "height": 34
        },
        "outputId": "b524f96f-e8fb-41e9-f00b-288e2e4dc16c"
      },
      "source": [
        "!cd ./Bert-Chinese-Text-Classification-Pytorch"
      ],
      "execution_count": 15,
      "outputs": [
        {
          "output_type": "stream",
          "text": [
            "/bin/bash: line 0: cd: ./Bert-Chinese-Text-Classification-Pytorch: No such file or directory\n"
          ],
          "name": "stdout"
        }
      ]
    },
    {
      "cell_type": "code",
      "metadata": {
        "id": "wpRdLyHp5qXj",
        "colab_type": "code",
        "colab": {
          "base_uri": "https://localhost:8080/",
          "height": 51
        },
        "outputId": "de098fa9-9414-4299-e8e4-8b46d27ba53d"
      },
      "source": [
        "!ls"
      ],
      "execution_count": 16,
      "outputs": [
        {
          "output_type": "stream",
          "text": [
            "bert_pretrain\tLICENSE  pytorch_pretrained  run.py    train_eval.py\n",
            "ERNIE_pretrain\tmodels\t README.md\t     THUCNews  utils.py\n"
          ],
          "name": "stdout"
        }
      ]
    },
    {
      "cell_type": "code",
      "metadata": {
        "id": "XhmFiFZG5zlD",
        "colab_type": "code",
        "colab": {}
      },
      "source": [
        "!cd bert_pretrain/"
      ],
      "execution_count": 0,
      "outputs": []
    },
    {
      "cell_type": "code",
      "metadata": {
        "id": "qjvr070358KN",
        "colab_type": "code",
        "colab": {
          "base_uri": "https://localhost:8080/",
          "height": 51
        },
        "outputId": "ac8d2ba0-ee2d-4581-bcf4-f15ae2dfbdae"
      },
      "source": [
        "!ls"
      ],
      "execution_count": 18,
      "outputs": [
        {
          "output_type": "stream",
          "text": [
            "bert_pretrain\tLICENSE  pytorch_pretrained  run.py    train_eval.py\n",
            "ERNIE_pretrain\tmodels\t README.md\t     THUCNews  utils.py\n"
          ],
          "name": "stdout"
        }
      ]
    },
    {
      "cell_type": "code",
      "metadata": {
        "id": "sQU8PV-05_FP",
        "colab_type": "code",
        "colab": {}
      },
      "source": [
        "!cd bert_pretrain/"
      ],
      "execution_count": 0,
      "outputs": []
    },
    {
      "cell_type": "code",
      "metadata": {
        "id": "P_PqYxtf6D11",
        "colab_type": "code",
        "colab": {
          "base_uri": "https://localhost:8080/",
          "height": 51
        },
        "outputId": "12eb9a5e-af06-47b8-a7cf-ff0d32dd282d"
      },
      "source": [
        "!ls"
      ],
      "execution_count": 20,
      "outputs": [
        {
          "output_type": "stream",
          "text": [
            "bert_pretrain\tLICENSE  pytorch_pretrained  run.py    train_eval.py\n",
            "ERNIE_pretrain\tmodels\t README.md\t     THUCNews  utils.py\n"
          ],
          "name": "stdout"
        }
      ]
    },
    {
      "cell_type": "code",
      "metadata": {
        "id": "2iAXBPay6F4O",
        "colab_type": "code",
        "colab": {
          "base_uri": "https://localhost:8080/",
          "height": 51
        },
        "outputId": "f0ba7995-f8a0-4806-99c2-753c13381f77"
      },
      "source": [
        "!tar -xzvf ./bert_pretrain/bert-base-chinese.tar.gz ./bert_pretrain"
      ],
      "execution_count": 21,
      "outputs": [
        {
          "output_type": "stream",
          "text": [
            "tar: ./bert_pretrain: Not found in archive\n",
            "tar: Exiting with failure status due to previous errors\n"
          ],
          "name": "stdout"
        }
      ]
    },
    {
      "cell_type": "code",
      "metadata": {
        "id": "ykTIE_YF6TGw",
        "colab_type": "code",
        "colab": {
          "base_uri": "https://localhost:8080/",
          "height": 51
        },
        "outputId": "57d5fed7-639f-433e-b61e-74e3208224ac"
      },
      "source": [
        "!ls\n"
      ],
      "execution_count": 22,
      "outputs": [
        {
          "output_type": "stream",
          "text": [
            "bert_pretrain\tLICENSE  pytorch_pretrained  run.py    train_eval.py\n",
            "ERNIE_pretrain\tmodels\t README.md\t     THUCNews  utils.py\n"
          ],
          "name": "stdout"
        }
      ]
    },
    {
      "cell_type": "code",
      "metadata": {
        "id": "BhOnPthd6Z06",
        "colab_type": "code",
        "colab": {}
      },
      "source": [
        "!cd /content/B "
      ],
      "execution_count": 0,
      "outputs": []
    },
    {
      "cell_type": "code",
      "metadata": {
        "id": "DUtjpIoR6cHt",
        "colab_type": "code",
        "colab": {
          "base_uri": "https://localhost:8080/",
          "height": 34
        },
        "outputId": "7259a4f2-8d8e-4f42-b44d-e5228f298226"
      },
      "source": [
        "!pwd"
      ],
      "execution_count": 24,
      "outputs": [
        {
          "output_type": "stream",
          "text": [
            "/content/Bert-Chinese-Text-Classification-Pytorch\n"
          ],
          "name": "stdout"
        }
      ]
    },
    {
      "cell_type": "code",
      "metadata": {
        "id": "sL2kuJB56e0A",
        "colab_type": "code",
        "colab": {
          "base_uri": "https://localhost:8080/",
          "height": 34
        },
        "outputId": "7931bdc0-8bf3-4d5c-96c8-2d87968b29c9"
      },
      "source": [
        "!pwd"
      ],
      "execution_count": 25,
      "outputs": [
        {
          "output_type": "stream",
          "text": [
            "/content/Bert-Chinese-Text-Classification-Pytorch\n"
          ],
          "name": "stdout"
        }
      ]
    },
    {
      "cell_type": "code",
      "metadata": {
        "id": "V6N4UzkH67xn",
        "colab_type": "code",
        "colab": {
          "base_uri": "https://localhost:8080/",
          "height": 34
        },
        "outputId": "68900e24-6e2c-4422-a5e6-126e16a808c9"
      },
      "source": [
        "%cd /content/Bert-Chinese-Text-Classification-Pytorch/bert_pretrain/"
      ],
      "execution_count": 28,
      "outputs": [
        {
          "output_type": "stream",
          "text": [
            "/content/Bert-Chinese-Text-Classification-Pytorch/bert_pretrain\n"
          ],
          "name": "stdout"
        }
      ]
    },
    {
      "cell_type": "code",
      "metadata": {
        "id": "k_ht8Xgq7DZn",
        "colab_type": "code",
        "colab": {
          "base_uri": "https://localhost:8080/",
          "height": 34
        },
        "outputId": "14e3c250-3ccd-4444-867f-c700fa3e9a87"
      },
      "source": [
        "!pwd\n"
      ],
      "execution_count": 29,
      "outputs": [
        {
          "output_type": "stream",
          "text": [
            "/content/Bert-Chinese-Text-Classification-Pytorch/bert_pretrain\n"
          ],
          "name": "stdout"
        }
      ]
    },
    {
      "cell_type": "code",
      "metadata": {
        "id": "vGpQWAxF7Fo8",
        "colab_type": "code",
        "colab": {
          "base_uri": "https://localhost:8080/",
          "height": 34
        },
        "outputId": "cf805aab-a39e-4cae-b7df-375c5dba7195"
      },
      "source": [
        "!ls"
      ],
      "execution_count": 30,
      "outputs": [
        {
          "output_type": "stream",
          "text": [
            "bert-base-chinese.tar.gz  README.md\n"
          ],
          "name": "stdout"
        }
      ]
    },
    {
      "cell_type": "code",
      "metadata": {
        "id": "znZUeJPf7c6-",
        "colab_type": "code",
        "colab": {
          "base_uri": "https://localhost:8080/",
          "height": 51
        },
        "outputId": "89856d99-5fc7-4c0c-81fb-37ce80cdaf14"
      },
      "source": [
        "!tar -xzvf bert-base-chinese.tar.gz ./"
      ],
      "execution_count": 31,
      "outputs": [
        {
          "output_type": "stream",
          "text": [
            "./pytorch_model.bin\n",
            "./bert_config.json\n"
          ],
          "name": "stdout"
        }
      ]
    },
    {
      "cell_type": "code",
      "metadata": {
        "id": "ttdxeTHS7iQ1",
        "colab_type": "code",
        "colab": {
          "base_uri": "https://localhost:8080/",
          "height": 34
        },
        "outputId": "25fb71da-bfdd-4b97-b244-66ce93413798"
      },
      "source": [
        "!ls\n"
      ],
      "execution_count": 32,
      "outputs": [
        {
          "output_type": "stream",
          "text": [
            "bert-base-chinese.tar.gz  bert_config.json  pytorch_model.bin  README.md\n"
          ],
          "name": "stdout"
        }
      ]
    },
    {
      "cell_type": "code",
      "metadata": {
        "id": "owrP7NmP7lWt",
        "colab_type": "code",
        "colab": {
          "base_uri": "https://localhost:8080/",
          "height": 34
        },
        "outputId": "fa925379-93f9-43b3-f0b4-028f8be0999b"
      },
      "source": [
        "!ls"
      ],
      "execution_count": 33,
      "outputs": [
        {
          "output_type": "stream",
          "text": [
            "bert-base-chinese.tar.gz  bert_config.json  pytorch_model.bin  README.md\n"
          ],
          "name": "stdout"
        }
      ]
    },
    {
      "cell_type": "code",
      "metadata": {
        "id": "VQiF_umD8HpO",
        "colab_type": "code",
        "colab": {
          "base_uri": "https://localhost:8080/",
          "height": 34
        },
        "outputId": "306fb25a-236f-4f75-ad8a-5f0e12a64acd"
      },
      "source": [
        "%cd ..\n"
      ],
      "execution_count": 34,
      "outputs": [
        {
          "output_type": "stream",
          "text": [
            "/content/Bert-Chinese-Text-Classification-Pytorch\n"
          ],
          "name": "stdout"
        }
      ]
    },
    {
      "cell_type": "code",
      "metadata": {
        "id": "K_jJPNwt8JtZ",
        "colab_type": "code",
        "colab": {
          "base_uri": "https://localhost:8080/",
          "height": 119
        },
        "outputId": "fd79b989-7b67-4211-f17a-7a96bf4309b5"
      },
      "source": [
        "!python run.py --model bert"
      ],
      "execution_count": 35,
      "outputs": [
        {
          "output_type": "stream",
          "text": [
            "Traceback (most recent call last):\n",
            "  File \"run.py\", line 5, in <module>\n",
            "    from train_eval import train, init_network\n",
            "  File \"/content/Bert-Chinese-Text-Classification-Pytorch/train_eval.py\", line 9, in <module>\n",
            "    from pytorch_pretrained_bert.optimization import BertAdam\n",
            "ModuleNotFoundError: No module named 'pytorch_pretrained_bert'\n"
          ],
          "name": "stdout"
        }
      ]
    },
    {
      "cell_type": "code",
      "metadata": {
        "id": "PPMu3wdH8V3d",
        "colab_type": "code",
        "colab": {
          "base_uri": "https://localhost:8080/",
          "height": 529
        },
        "outputId": "f65220c4-c056-44b6-9dd6-f4690be493b2"
      },
      "source": [
        "from google.colab import drive\n",
        "drive.mount('/content/drive')"
      ],
      "execution_count": 37,
      "outputs": [
        {
          "output_type": "error",
          "ename": "KeyboardInterrupt",
          "evalue": "ignored",
          "traceback": [
            "\u001b[0;31m---------------------------------------------------------------------------\u001b[0m",
            "\u001b[0;31mKeyboardInterrupt\u001b[0m                         Traceback (most recent call last)",
            "\u001b[0;32m/usr/local/lib/python3.6/dist-packages/ipykernel/kernelbase.py\u001b[0m in \u001b[0;36m_input_request\u001b[0;34m(self, prompt, ident, parent, password)\u001b[0m\n\u001b[1;32m    729\u001b[0m             \u001b[0;32mtry\u001b[0m\u001b[0;34m:\u001b[0m\u001b[0;34m\u001b[0m\u001b[0;34m\u001b[0m\u001b[0m\n\u001b[0;32m--> 730\u001b[0;31m                 \u001b[0mident\u001b[0m\u001b[0;34m,\u001b[0m \u001b[0mreply\u001b[0m \u001b[0;34m=\u001b[0m \u001b[0mself\u001b[0m\u001b[0;34m.\u001b[0m\u001b[0msession\u001b[0m\u001b[0;34m.\u001b[0m\u001b[0mrecv\u001b[0m\u001b[0;34m(\u001b[0m\u001b[0mself\u001b[0m\u001b[0;34m.\u001b[0m\u001b[0mstdin_socket\u001b[0m\u001b[0;34m,\u001b[0m \u001b[0;36m0\u001b[0m\u001b[0;34m)\u001b[0m\u001b[0;34m\u001b[0m\u001b[0;34m\u001b[0m\u001b[0m\n\u001b[0m\u001b[1;32m    731\u001b[0m             \u001b[0;32mexcept\u001b[0m \u001b[0mException\u001b[0m\u001b[0;34m:\u001b[0m\u001b[0;34m\u001b[0m\u001b[0;34m\u001b[0m\u001b[0m\n",
            "\u001b[0;32m/usr/local/lib/python3.6/dist-packages/jupyter_client/session.py\u001b[0m in \u001b[0;36mrecv\u001b[0;34m(self, socket, mode, content, copy)\u001b[0m\n\u001b[1;32m    802\u001b[0m         \u001b[0;32mtry\u001b[0m\u001b[0;34m:\u001b[0m\u001b[0;34m\u001b[0m\u001b[0;34m\u001b[0m\u001b[0m\n\u001b[0;32m--> 803\u001b[0;31m             \u001b[0mmsg_list\u001b[0m \u001b[0;34m=\u001b[0m \u001b[0msocket\u001b[0m\u001b[0;34m.\u001b[0m\u001b[0mrecv_multipart\u001b[0m\u001b[0;34m(\u001b[0m\u001b[0mmode\u001b[0m\u001b[0;34m,\u001b[0m \u001b[0mcopy\u001b[0m\u001b[0;34m=\u001b[0m\u001b[0mcopy\u001b[0m\u001b[0;34m)\u001b[0m\u001b[0;34m\u001b[0m\u001b[0;34m\u001b[0m\u001b[0m\n\u001b[0m\u001b[1;32m    804\u001b[0m         \u001b[0;32mexcept\u001b[0m \u001b[0mzmq\u001b[0m\u001b[0;34m.\u001b[0m\u001b[0mZMQError\u001b[0m \u001b[0;32mas\u001b[0m \u001b[0me\u001b[0m\u001b[0;34m:\u001b[0m\u001b[0;34m\u001b[0m\u001b[0;34m\u001b[0m\u001b[0m\n",
            "\u001b[0;32m/usr/local/lib/python3.6/dist-packages/zmq/sugar/socket.py\u001b[0m in \u001b[0;36mrecv_multipart\u001b[0;34m(self, flags, copy, track)\u001b[0m\n\u001b[1;32m    465\u001b[0m         \"\"\"\n\u001b[0;32m--> 466\u001b[0;31m         \u001b[0mparts\u001b[0m \u001b[0;34m=\u001b[0m \u001b[0;34m[\u001b[0m\u001b[0mself\u001b[0m\u001b[0;34m.\u001b[0m\u001b[0mrecv\u001b[0m\u001b[0;34m(\u001b[0m\u001b[0mflags\u001b[0m\u001b[0;34m,\u001b[0m \u001b[0mcopy\u001b[0m\u001b[0;34m=\u001b[0m\u001b[0mcopy\u001b[0m\u001b[0;34m,\u001b[0m \u001b[0mtrack\u001b[0m\u001b[0;34m=\u001b[0m\u001b[0mtrack\u001b[0m\u001b[0;34m)\u001b[0m\u001b[0;34m]\u001b[0m\u001b[0;34m\u001b[0m\u001b[0;34m\u001b[0m\u001b[0m\n\u001b[0m\u001b[1;32m    467\u001b[0m         \u001b[0;31m# have first part already, only loop while more to receive\u001b[0m\u001b[0;34m\u001b[0m\u001b[0;34m\u001b[0m\u001b[0;34m\u001b[0m\u001b[0m\n",
            "\u001b[0;32mzmq/backend/cython/socket.pyx\u001b[0m in \u001b[0;36mzmq.backend.cython.socket.Socket.recv\u001b[0;34m()\u001b[0m\n",
            "\u001b[0;32mzmq/backend/cython/socket.pyx\u001b[0m in \u001b[0;36mzmq.backend.cython.socket.Socket.recv\u001b[0;34m()\u001b[0m\n",
            "\u001b[0;32mzmq/backend/cython/socket.pyx\u001b[0m in \u001b[0;36mzmq.backend.cython.socket._recv_copy\u001b[0;34m()\u001b[0m\n",
            "\u001b[0;32m/usr/local/lib/python3.6/dist-packages/zmq/backend/cython/checkrc.pxd\u001b[0m in \u001b[0;36mzmq.backend.cython.checkrc._check_rc\u001b[0;34m()\u001b[0m\n",
            "\u001b[0;31mKeyboardInterrupt\u001b[0m: ",
            "\nDuring handling of the above exception, another exception occurred:\n",
            "\u001b[0;31mKeyboardInterrupt\u001b[0m                         Traceback (most recent call last)",
            "\u001b[0;32m<ipython-input-37-d5df0069828e>\u001b[0m in \u001b[0;36m<module>\u001b[0;34m()\u001b[0m\n\u001b[1;32m      1\u001b[0m \u001b[0;32mfrom\u001b[0m \u001b[0mgoogle\u001b[0m\u001b[0;34m.\u001b[0m\u001b[0mcolab\u001b[0m \u001b[0;32mimport\u001b[0m \u001b[0mdrive\u001b[0m\u001b[0;34m\u001b[0m\u001b[0;34m\u001b[0m\u001b[0m\n\u001b[0;32m----> 2\u001b[0;31m \u001b[0mdrive\u001b[0m\u001b[0;34m.\u001b[0m\u001b[0mmount\u001b[0m\u001b[0;34m(\u001b[0m\u001b[0;34m'/content/drive'\u001b[0m\u001b[0;34m)\u001b[0m\u001b[0;34m\u001b[0m\u001b[0;34m\u001b[0m\u001b[0m\n\u001b[0m",
            "\u001b[0;32m/usr/local/lib/python3.6/dist-packages/google/colab/drive.py\u001b[0m in \u001b[0;36mmount\u001b[0;34m(mountpoint, force_remount, timeout_ms, use_metadata_server)\u001b[0m\n\u001b[1;32m    236\u001b[0m       \u001b[0mauth_prompt\u001b[0m \u001b[0;34m=\u001b[0m \u001b[0md\u001b[0m\u001b[0;34m.\u001b[0m\u001b[0mmatch\u001b[0m\u001b[0;34m.\u001b[0m\u001b[0mgroup\u001b[0m\u001b[0;34m(\u001b[0m\u001b[0;36m1\u001b[0m\u001b[0;34m)\u001b[0m \u001b[0;34m+\u001b[0m \u001b[0;34m'\\nEnter your authorization code:\\n'\u001b[0m\u001b[0;34m\u001b[0m\u001b[0;34m\u001b[0m\u001b[0m\n\u001b[1;32m    237\u001b[0m       \u001b[0;32mwith\u001b[0m \u001b[0mopen\u001b[0m\u001b[0;34m(\u001b[0m\u001b[0mfifo\u001b[0m\u001b[0;34m,\u001b[0m \u001b[0;34m'w'\u001b[0m\u001b[0;34m)\u001b[0m \u001b[0;32mas\u001b[0m \u001b[0mfifo_file\u001b[0m\u001b[0;34m:\u001b[0m\u001b[0;34m\u001b[0m\u001b[0;34m\u001b[0m\u001b[0m\n\u001b[0;32m--> 238\u001b[0;31m         \u001b[0mfifo_file\u001b[0m\u001b[0;34m.\u001b[0m\u001b[0mwrite\u001b[0m\u001b[0;34m(\u001b[0m\u001b[0m_getpass\u001b[0m\u001b[0;34m.\u001b[0m\u001b[0mgetpass\u001b[0m\u001b[0;34m(\u001b[0m\u001b[0mauth_prompt\u001b[0m\u001b[0;34m)\u001b[0m \u001b[0;34m+\u001b[0m \u001b[0;34m'\\n'\u001b[0m\u001b[0;34m)\u001b[0m\u001b[0;34m\u001b[0m\u001b[0;34m\u001b[0m\u001b[0m\n\u001b[0m\u001b[1;32m    239\u001b[0m       \u001b[0mwrote_to_fifo\u001b[0m \u001b[0;34m=\u001b[0m \u001b[0;32mTrue\u001b[0m\u001b[0;34m\u001b[0m\u001b[0;34m\u001b[0m\u001b[0m\n\u001b[1;32m    240\u001b[0m   \u001b[0;32mif\u001b[0m \u001b[0;32mnot\u001b[0m \u001b[0mwrote_to_fifo\u001b[0m\u001b[0;34m:\u001b[0m\u001b[0;34m\u001b[0m\u001b[0;34m\u001b[0m\u001b[0m\n",
            "\u001b[0;32m/usr/local/lib/python3.6/dist-packages/ipykernel/kernelbase.py\u001b[0m in \u001b[0;36mgetpass\u001b[0;34m(self, prompt, stream)\u001b[0m\n\u001b[1;32m    686\u001b[0m             \u001b[0mself\u001b[0m\u001b[0;34m.\u001b[0m\u001b[0m_parent_ident\u001b[0m\u001b[0;34m,\u001b[0m\u001b[0;34m\u001b[0m\u001b[0;34m\u001b[0m\u001b[0m\n\u001b[1;32m    687\u001b[0m             \u001b[0mself\u001b[0m\u001b[0;34m.\u001b[0m\u001b[0m_parent_header\u001b[0m\u001b[0;34m,\u001b[0m\u001b[0;34m\u001b[0m\u001b[0;34m\u001b[0m\u001b[0m\n\u001b[0;32m--> 688\u001b[0;31m             \u001b[0mpassword\u001b[0m\u001b[0;34m=\u001b[0m\u001b[0;32mTrue\u001b[0m\u001b[0;34m,\u001b[0m\u001b[0;34m\u001b[0m\u001b[0;34m\u001b[0m\u001b[0m\n\u001b[0m\u001b[1;32m    689\u001b[0m         )\n\u001b[1;32m    690\u001b[0m \u001b[0;34m\u001b[0m\u001b[0m\n",
            "\u001b[0;32m/usr/local/lib/python3.6/dist-packages/ipykernel/kernelbase.py\u001b[0m in \u001b[0;36m_input_request\u001b[0;34m(self, prompt, ident, parent, password)\u001b[0m\n\u001b[1;32m    733\u001b[0m             \u001b[0;32mexcept\u001b[0m \u001b[0mKeyboardInterrupt\u001b[0m\u001b[0;34m:\u001b[0m\u001b[0;34m\u001b[0m\u001b[0;34m\u001b[0m\u001b[0m\n\u001b[1;32m    734\u001b[0m                 \u001b[0;31m# re-raise KeyboardInterrupt, to truncate traceback\u001b[0m\u001b[0;34m\u001b[0m\u001b[0;34m\u001b[0m\u001b[0;34m\u001b[0m\u001b[0m\n\u001b[0;32m--> 735\u001b[0;31m                 \u001b[0;32mraise\u001b[0m \u001b[0mKeyboardInterrupt\u001b[0m\u001b[0;34m\u001b[0m\u001b[0;34m\u001b[0m\u001b[0m\n\u001b[0m\u001b[1;32m    736\u001b[0m             \u001b[0;32melse\u001b[0m\u001b[0;34m:\u001b[0m\u001b[0;34m\u001b[0m\u001b[0;34m\u001b[0m\u001b[0m\n\u001b[1;32m    737\u001b[0m                 \u001b[0;32mbreak\u001b[0m\u001b[0;34m\u001b[0m\u001b[0;34m\u001b[0m\u001b[0m\n",
            "\u001b[0;31mKeyboardInterrupt\u001b[0m: "
          ]
        }
      ]
    },
    {
      "cell_type": "markdown",
      "metadata": {
        "id": "jQXPJ-_wCYqr",
        "colab_type": "text"
      },
      "source": [
        "# 新段落"
      ]
    },
    {
      "cell_type": "code",
      "metadata": {
        "id": "d5fNA6Dq_0Xs",
        "colab_type": "code",
        "colab": {
          "base_uri": "https://localhost:8080/",
          "height": 34
        },
        "outputId": "a4d4eb6e-2272-4c29-ea84-96d6c39dc589"
      },
      "source": [
        "%cd /content/drive/My Drive/Bert-Chinese-Text-Classification-Pytorch"
      ],
      "execution_count": 14,
      "outputs": [
        {
          "output_type": "stream",
          "text": [
            "/content/drive/My Drive/Bert-Chinese-Text-Classification-Pytorch\n"
          ],
          "name": "stdout"
        }
      ]
    },
    {
      "cell_type": "code",
      "metadata": {
        "id": "jZAyWjEXF7o6",
        "colab_type": "code",
        "colab": {
          "base_uri": "https://localhost:8080/",
          "height": 51
        },
        "outputId": "2720e82b-8eaf-41a4-bae0-55bb1d068995"
      },
      "source": [
        "!ls"
      ],
      "execution_count": 3,
      "outputs": [
        {
          "output_type": "stream",
          "text": [
            "bert_pretrain\tLICENSE  __pycache__\t     README.md\tTHUCNews       utils.py\n",
            "ERNIE_pretrain\tmodels\t pytorch_pretrained  run.py\ttrain_eval.py\n"
          ],
          "name": "stdout"
        }
      ]
    },
    {
      "cell_type": "code",
      "metadata": {
        "id": "_n7WDNVSGBgL",
        "colab_type": "code",
        "colab": {
          "base_uri": "https://localhost:8080/",
          "height": 34
        },
        "outputId": "af9e4a9a-fbb1-4f1f-bd90-5d161c46faaf"
      },
      "source": [
        "%cd bert_pretrain"
      ],
      "execution_count": 15,
      "outputs": [
        {
          "output_type": "stream",
          "text": [
            "/content/drive/My Drive/Bert-Chinese-Text-Classification-Pytorch/bert_pretrain\n"
          ],
          "name": "stdout"
        }
      ]
    },
    {
      "cell_type": "code",
      "metadata": {
        "id": "DML-Oc_pGZom",
        "colab_type": "code",
        "colab": {
          "base_uri": "https://localhost:8080/",
          "height": 204
        },
        "outputId": "82a47b0e-9db4-4b69-8dd8-8fdf116165e3"
      },
      "source": [
        "!wget https://s3.amazonaws.com/models.huggingface.co/bert/bert-base-chinese.tar.gz"
      ],
      "execution_count": 16,
      "outputs": [
        {
          "output_type": "stream",
          "text": [
            "--2020-03-20 13:26:17--  https://s3.amazonaws.com/models.huggingface.co/bert/bert-base-chinese.tar.gz\n",
            "Resolving s3.amazonaws.com (s3.amazonaws.com)... 52.216.24.78\n",
            "Connecting to s3.amazonaws.com (s3.amazonaws.com)|52.216.24.78|:443... connected.\n",
            "HTTP request sent, awaiting response... 200 OK\n",
            "Length: 382072689 (364M) [application/x-tar]\n",
            "Saving to: ‘bert-base-chinese.tar.gz’\n",
            "\n",
            "bert-base-chinese.t 100%[===================>] 364.37M  54.2MB/s    in 6.3s    \n",
            "\n",
            "2020-03-20 13:26:24 (57.9 MB/s) - ‘bert-base-chinese.tar.gz’ saved [382072689/382072689]\n",
            "\n"
          ],
          "name": "stdout"
        }
      ]
    },
    {
      "cell_type": "code",
      "metadata": {
        "id": "lXMktsTwGgj_",
        "colab_type": "code",
        "colab": {
          "base_uri": "https://localhost:8080/",
          "height": 51
        },
        "outputId": "dac7ec0f-d179-45f9-fb05-5861bd5160b7"
      },
      "source": [
        "!tar -xzvf bert-base-chinese.tar.gz ./"
      ],
      "execution_count": 17,
      "outputs": [
        {
          "output_type": "stream",
          "text": [
            "./pytorch_model.bin\n",
            "./bert_config.json\n"
          ],
          "name": "stdout"
        }
      ]
    },
    {
      "cell_type": "code",
      "metadata": {
        "id": "TfUJnmHoGnpI",
        "colab_type": "code",
        "colab": {
          "base_uri": "https://localhost:8080/",
          "height": 51
        },
        "outputId": "fe9bd066-3d61-471a-809c-3aa68ba76942"
      },
      "source": [
        "!ls"
      ],
      "execution_count": 11,
      "outputs": [
        {
          "output_type": "stream",
          "text": [
            "bert-base-chinese.tar.gz  pytorch_model.bin  vocab.txt\n",
            "bert_config.json\t  README.md\n"
          ],
          "name": "stdout"
        }
      ]
    },
    {
      "cell_type": "code",
      "metadata": {
        "id": "2oFJvBpmGr2e",
        "colab_type": "code",
        "colab": {
          "base_uri": "https://localhost:8080/",
          "height": 34
        },
        "outputId": "0c3181ca-00a0-4016-bffc-af1de51f8978"
      },
      "source": [
        "%cd .."
      ],
      "execution_count": 18,
      "outputs": [
        {
          "output_type": "stream",
          "text": [
            "/content/drive/My Drive/Bert-Chinese-Text-Classification-Pytorch\n"
          ],
          "name": "stdout"
        }
      ]
    },
    {
      "cell_type": "code",
      "metadata": {
        "id": "aZxAe9XxIEF5",
        "colab_type": "code",
        "colab": {}
      },
      "source": [
        "import sys\n",
        "cur = '/content/drive/My Drive/Bert-Chinese-Text-Classification-Pytorch'\n",
        "sys.path.append(cur)"
      ],
      "execution_count": 0,
      "outputs": []
    },
    {
      "cell_type": "code",
      "metadata": {
        "id": "H6WPP-OnIQLe",
        "colab_type": "code",
        "colab": {
          "base_uri": "https://localhost:8080/",
          "height": 165
        },
        "outputId": "6fee80de-f35d-49c3-9ea8-cf9861f01a70"
      },
      "source": [
        "!python run.py --model bert"
      ],
      "execution_count": 0,
      "outputs": [
        {
          "output_type": "stream",
          "text": [
            "Loading data...\n",
            "180000it [00:24, 7318.79it/s]\n",
            "10000it [00:02, 4964.40it/s]\n",
            "10000it [00:02, 4988.97it/s]\n",
            "Time usage: 0:00:29\n",
            "Epoch [1/3]\n",
            "\n"
          ],
          "name": "stdout"
        }
      ]
    },
    {
      "cell_type": "code",
      "metadata": {
        "id": "ARgU4N0_IXZF",
        "colab_type": "code",
        "colab": {}
      },
      "source": [
        "import torch"
      ],
      "execution_count": 0,
      "outputs": []
    },
    {
      "cell_type": "code",
      "metadata": {
        "id": "3UH2y2f2JhRi",
        "colab_type": "code",
        "colab": {}
      },
      "source": [
        ""
      ],
      "execution_count": 0,
      "outputs": []
    }
  ]
}